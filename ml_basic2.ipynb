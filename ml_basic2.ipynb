{
 "cells": [
  {
   "cell_type": "markdown",
   "metadata": {},
   "source": [
    "# Python machine learning: unsupervised learning\n",
    "For unsupervised learning, there is no labeled data, ie no target variable Y. We will have the features (X) only. The gaol is to find a way to see if the data can be grouped by just using the X. For practice only, we will use Y to see how good the model works.\n",
    "\n",
    "**sklearn flows**\n",
    "![sklearn](sklearn_flows.png)"
   ]
  },
  {
   "cell_type": "markdown",
   "metadata": {},
   "source": [
    "## Load the UCI IRIS dataset and prepare the dataset for machine learning\n",
    "Data description is [here](https://archive.ics.uci.edu/ml/machine-learning-databases/iris/iris.names)"
   ]
  },
  {
   "cell_type": "code",
   "execution_count": 98,
   "metadata": {
    "collapsed": true
   },
   "outputs": [],
   "source": [
    "import pandas as pd\n",
    "url = \"https://archive.ics.uci.edu/ml/machine-learning-databases/iris/iris.data\"\n",
    "colnames = ['sepal-length', 'sepal-width', 'petal-length', 'petal-width', 'species']\n",
    "iris = pd.read_csv(url, names=colnames)"
   ]
  },
  {
   "cell_type": "code",
   "execution_count": 99,
   "metadata": {
    "collapsed": true
   },
   "outputs": [],
   "source": [
    "X = iris[['sepal-length', 'sepal-width', 'petal-length', 'petal-width']].values\n",
    "Y = iris[['species']].values                ##Using Y for metric reporting only"
   ]
  },
  {
   "cell_type": "code",
   "execution_count": 100,
   "metadata": {
    "collapsed": true
   },
   "outputs": [],
   "source": [
    "from sklearn import model_selection\n",
    "X_train, X_test, Y_train, Y_test = model_selection.train_test_split(X, Y, test_size=0.2, random_state=7)"
   ]
  },
  {
   "cell_type": "markdown",
   "metadata": {},
   "source": [
    "## Perform machine learning using a number of algorithms"
   ]
  },
  {
   "cell_type": "markdown",
   "metadata": {},
   "source": [
    "### Clustering with K Means"
   ]
  },
  {
   "cell_type": "markdown",
   "metadata": {},
   "source": [
    "Clusters are data groups. Each cluster is centered on a point called centroid. The goal is to find number of clusters that maximizes the difference between centroids."
   ]
  },
  {
   "cell_type": "code",
   "execution_count": 101,
   "metadata": {
    "collapsed": true
   },
   "outputs": [],
   "source": [
    "from sklearn import cluster\n",
    "##since we already know there are 3 classes, we will init to that; notice the random_state has significant impact.\n",
    "KMC = cluster.KMeans(init='k-means++', n_clusters=3, random_state=42)\n",
    "KMC.fit(X_train)\n",
    "KMC_pred = KMC.predict(X_test)"
   ]
  },
  {
   "cell_type": "code",
   "execution_count": 102,
   "metadata": {},
   "outputs": [
    {
     "data": {
      "text/plain": [
       "(3L, 4L)"
      ]
     },
     "execution_count": 102,
     "metadata": {},
     "output_type": "execute_result"
    }
   ],
   "source": [
    "##show the number of centroids and X features\n",
    "KMC.cluster_centers_.shape"
   ]
  },
  {
   "cell_type": "code",
   "execution_count": 103,
   "metadata": {},
   "outputs": [
    {
     "name": "stdout",
     "output_type": "stream",
     "text": [
      "[1 1 0 1 1 0 2 1 0]\n"
     ]
    }
   ],
   "source": [
    "print KMC_pred[:9]"
   ]
  },
  {
   "cell_type": "markdown",
   "metadata": {},
   "source": [
    "Notice that the predicted class is numerical values representing the three clusters (0, 1, 2). If we want to see how this model works, we will compare KMC_pred with Y_test. Because Y_test uses characters while KMC_pred uses integers to represent the classes of Y, we need to convert Y_test into integers."
   ]
  },
  {
   "cell_type": "code",
   "execution_count": 104,
   "metadata": {},
   "outputs": [
    {
     "data": {
      "text/plain": [
       "array(['Iris-setosa', 'Iris-versicolor', 'Iris-virginica'], dtype=object)"
      ]
     },
     "execution_count": 104,
     "metadata": {},
     "output_type": "execute_result"
    }
   ],
   "source": [
    "from sklearn import preprocessing\n",
    "le = preprocessing.LabelEncoder()\n",
    "le.fit(Y_test.ravel())                  ##le will try to figure out how many levels of integers to use\n",
    "Y_test_orig = Y_test                    ##remember the original Y_test\n",
    "Y_test = le.transform(Y_test.ravel())   ##le will then transform the chars into integers\n",
    "le.classes_                             ##optional, to see how many classes are estimated"
   ]
  },
  {
   "cell_type": "markdown",
   "metadata": {},
   "source": [
    "We can compare the the original Y_test vs transformed Y_test side by side to ensure they are identically represented:"
   ]
  },
  {
   "cell_type": "code",
   "execution_count": 107,
   "metadata": {},
   "outputs": [
    {
     "data": {
      "text/plain": [
       "[(array(['Iris-virginica'], dtype=object), 2),\n",
       " (array(['Iris-versicolor'], dtype=object), 1),\n",
       " (array(['Iris-setosa'], dtype=object), 0),\n",
       " (array(['Iris-versicolor'], dtype=object), 1),\n",
       " (array(['Iris-virginica'], dtype=object), 2),\n",
       " (array(['Iris-setosa'], dtype=object), 0),\n",
       " (array(['Iris-versicolor'], dtype=object), 1),\n",
       " (array(['Iris-versicolor'], dtype=object), 1),\n",
       " (array(['Iris-setosa'], dtype=object), 0)]"
      ]
     },
     "execution_count": 107,
     "metadata": {},
     "output_type": "execute_result"
    }
   ],
   "source": [
    "zip(Y_test_orig, Y_test)[:9]"
   ]
  },
  {
   "cell_type": "markdown",
   "metadata": {
    "scrolled": true
   },
   "source": [
    "Couple of notables on transformation: FOR INFO only\n",
    "\n",
    "<# Using one-hot dataframe, but not sure yet how to take that dataframe for confusion matrix (tbd)  \n",
    "import numpy as np  \n",
    "Y_test = pd.get_dummies(Y_test)               ##generate one-hot dataframe  \n",
    "\n",
    "<# numpy array to list conversion\n",
    "Y1 = np.ndarray.tolist(Y_test)\n",
    "\n",
    "<# numpy list to array\n",
    "Y2= np.asarray(Y1)          ##convert list to array"
   ]
  },
  {
   "cell_type": "code",
   "execution_count": 108,
   "metadata": {},
   "outputs": [
    {
     "data": {
      "text/plain": [
       "array([[ 7,  0,  0],\n",
       "       [ 0, 10,  2],\n",
       "       [ 0,  5,  6]])"
      ]
     },
     "execution_count": 108,
     "metadata": {},
     "output_type": "execute_result"
    }
   ],
   "source": [
    "from sklearn import metrics\n",
    "metrics.confusion_matrix(Y_test, KMC_pred)"
   ]
  },
  {
   "cell_type": "markdown",
   "metadata": {},
   "source": [
    "How to interpret the confusion matrix:  (markdown table must start with pipe, no other text)\n",
    "Redraw the confusion matrix below"
   ]
  },
  {
   "cell_type": "markdown",
   "metadata": {
    "collapsed": true
   },
   "source": [
    "|Predicted | 0 | 1 | 2 |\n",
    "| -------- | - | - | - |  \n",
    "|True     0| 7 | 0 | 0 |\n",
    "|         1| 0 |10 | 2 | \n",
    "|         2| 0 | 5 | 6 | \n",
    "    \n",
    "    "
   ]
  },
  {
   "cell_type": "markdown",
   "metadata": {},
   "source": [
    "Tables are created based on the number of classes of the Y. In this case, there are 3 classes (0, 1, 2). Predicted on top line, True values are vertical. Off-diagonals are errors. Total cases = 30.\n",
    "+ For class 0, there is 100% prediction accuracy, total 7 cases, all predicted correctly as 0.\n",
    "+ For class 1, 10 are predicted correctly (True =1, predicted =1); there are 2 cases it predicted as class 2. Accuracy of 10/12. \n",
    "+ The worst case is class 2. Of 11 cases, 6 correctly predicted as 2, while 5 is predicted as 1. Accuracy is 6/11. "
   ]
  },
  {
   "cell_type": "code",
   "execution_count": null,
   "metadata": {
    "collapsed": true
   },
   "outputs": [],
   "source": []
  }
 ],
 "metadata": {
  "kernelspec": {
   "display_name": "Python 2",
   "language": "python",
   "name": "python2"
  },
  "language_info": {
   "codemirror_mode": {
    "name": "ipython",
    "version": 2
   },
   "file_extension": ".py",
   "mimetype": "text/x-python",
   "name": "python",
   "nbconvert_exporter": "python",
   "pygments_lexer": "ipython2",
   "version": "2.7.10"
  }
 },
 "nbformat": 4,
 "nbformat_minor": 2
}
